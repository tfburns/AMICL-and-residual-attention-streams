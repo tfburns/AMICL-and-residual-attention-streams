{
 "cells": [
  {
   "cell_type": "code",
   "execution_count": 1,
   "id": "08e24923",
   "metadata": {},
   "outputs": [],
   "source": [
    "import numpy as np\n",
    "import math\n",
    "import matplotlib.pyplot as plt\n",
    "from scipy.spatial import distance"
   ]
  },
  {
   "cell_type": "code",
   "execution_count": 4,
   "id": "21a6faa6",
   "metadata": {},
   "outputs": [],
   "source": [
    "epsilon = math.ulp(1.0)\n",
    "def softmax(x):\n",
    "    return np.nan_to_num((np.exp(x)+epsilon))/np.nan_to_num((sum(np.exp(x))+epsilon))\n",
    "\n",
    "def interleave2d(a, b):\n",
    "    \"\"\"Interleave between columns of two arrays\"\"\"\n",
    "    c = np.empty((len(a), a.shape[1] * 2), dtype=a.dtype)\n",
    "    c[:, 0::2] = a\n",
    "    c[:, 1::2] = b\n",
    "    return c\n",
    "\n",
    "def class_sample(class_vectors, D, class_ID, eps=float(0.1)):\n",
    "    numer = class_vectors[:,class_ID] + eps*np.random.normal(loc=0.0, scale=1/D, size=D)\n",
    "    denom = np.sqrt(1+(eps**2))\n",
    "    return numer / denom\n",
    "\n",
    "def generate_token_sequence(class_vectors, class_labels, length=20, mask=True):\n",
    "    classes_for_sequence = np.random.randint(1,high=K, size= int(length/2)-1 )\n",
    "    classes_in_sequence_order = np.append(classes_for_sequence, np.random.choice(classes_for_sequence))\n",
    "\n",
    "    classes_token_sequence = np.zeros((int(length/2),D))\n",
    "    labels_token_sequence = np.zeros((int(length/2),D))\n",
    "    for i in range(int(length/2)):\n",
    "        classes_token_sequence[i,:] = class_sample(class_vectors, D, classes_in_sequence_order[i])\n",
    "    for i in range(int(length/2)):\n",
    "        labels_token_sequence[i,:] = class_labels[:,classes_in_sequence_order[i]]\n",
    "        \n",
    "    token_sequence = interleave2d(classes_token_sequence.T,labels_token_sequence.T)\n",
    "    if mask:\n",
    "        token_sequence[:,-1] = 0\n",
    "\n",
    "    return token_sequence, np.repeat(classes_in_sequence_order,2)"
   ]
  },
  {
   "cell_type": "code",
   "execution_count": 5,
   "id": "f121597f",
   "metadata": {},
   "outputs": [
    {
     "data": {
      "text/plain": [
       "True"
      ]
     },
     "execution_count": 5,
     "metadata": {},
     "output_type": "execute_result"
    }
   ],
   "source": [
    "D = 100 # number of non-positional dimensions\n",
    "K = 512 # number of classes\n",
    "sequence_length = 20\n",
    "amp = 2\n",
    "\n",
    "class_vectors = np.random.normal(size=(D,K))/np.sqrt(D)\n",
    "class_labels = np.random.normal(size=(D,K))/np.sqrt(D)\n",
    "\n",
    "token_sequence, classes_sequence = generate_token_sequence(class_vectors, class_labels, sequence_length)\n",
    "\n",
    "values = np.copy(token_sequence)\n",
    "queries = np.zeros((D,sequence_length))\n",
    "keys = np.zeros((D,sequence_length))\n",
    "\n",
    "for token in range(sequence_length):\n",
    "    if token==0:\n",
    "        queries[:,token] = (token_sequence[:,token-1]*amp + token_sequence[:,token])/(amp+1)\n",
    "        keys[:,token] = (token_sequence[:,token-1]*amp + token_sequence[:,token])/(amp+1)\n",
    "    elif token==(sequence_length-1):\n",
    "        queries[:,token] = (token_sequence[:,token-1]*amp + token_sequence[:,token])/(amp+1)\n",
    "        keys[:,token] = np.random.normal(size=D)/np.sqrt(D)\n",
    "    else:\n",
    "        queries[:,token] = (token_sequence[:,token-1]*amp + token_sequence[:,token])/(amp+1)\n",
    "        keys[:,token] = (token_sequence[:,token-1]*amp + token_sequence[:,token])/(amp+1)\n",
    "        \n",
    "next_token_attn = np.zeros((sequence_length))\n",
    "for i in range(0,sequence_length):\n",
    "    prod = np.dot(keys[:,i],queries[:,-1])\n",
    "    next_token_attn[i] = prod\n",
    "    \n",
    "out = values[:,np.argmax(next_token_attn)]\n",
    "\n",
    "np.all(out == class_labels[:,classes_sequence[-1]])"
   ]
  },
  {
   "cell_type": "code",
   "execution_count": 11,
   "id": "59f70970",
   "metadata": {},
   "outputs": [
    {
     "name": "stdout",
     "output_type": "stream",
     "text": [
      "Number of correct trials: 1000\n"
     ]
    }
   ],
   "source": [
    "trials = 1_000\n",
    "correct_trials = 0\n",
    "\n",
    "D = 100 # number of non-positional dimensions\n",
    "K = 512 # number of classes\n",
    "sequence_length = 20\n",
    "amp = 2\n",
    "\n",
    "for trial in range(trials):\n",
    "    class_vectors = np.random.normal(size=(D,K))/np.sqrt(D)\n",
    "    class_labels = np.random.normal(size=(D,K))/np.sqrt(D)\n",
    "\n",
    "    token_sequence, classes_sequence = generate_token_sequence(class_vectors, class_labels, sequence_length)\n",
    "\n",
    "    values = np.copy(token_sequence)\n",
    "    queries = np.zeros((D,sequence_length))\n",
    "    keys = np.zeros((D,sequence_length))\n",
    "\n",
    "    for token in range(sequence_length):\n",
    "        if token==0:\n",
    "            queries[:,token] = (token_sequence[:,token-1]*amp + token_sequence[:,token])/(amp+1)\n",
    "            keys[:,token] = (token_sequence[:,token-1]*amp + token_sequence[:,token])/(amp+1)\n",
    "        elif token==(sequence_length-1):\n",
    "            queries[:,token] = (token_sequence[:,token-1]*amp + token_sequence[:,token])/(amp+1)\n",
    "            keys[:,token] = np.random.normal(size=D)/np.sqrt(D)\n",
    "        else:\n",
    "            queries[:,token] = (token_sequence[:,token-1]*amp + token_sequence[:,token])/(amp+1)\n",
    "            keys[:,token] = (token_sequence[:,token-1]*amp + token_sequence[:,token])/(amp+1)\n",
    "\n",
    "    next_token_attn = np.zeros((sequence_length))\n",
    "    for i in range(0,sequence_length):\n",
    "        prod = np.dot(keys[:,i],queries[:,-1])\n",
    "        next_token_attn[i] = prod\n",
    "\n",
    "    out = values[:,np.argmax(next_token_attn)]\n",
    "\n",
    "    if np.all(out == class_labels[:,classes_sequence[-1]]):\n",
    "        correct_trials += 1\n",
    "        \n",
    "print(\"Number of correct trials:\", correct_trials)"
   ]
  },
  {
   "cell_type": "code",
   "execution_count": 13,
   "id": "0b42dce1",
   "metadata": {},
   "outputs": [
    {
     "name": "stdout",
     "output_type": "stream",
     "text": [
      "Correct trial\n"
     ]
    }
   ],
   "source": [
    "D = 100 # number of non-positional dimensions\n",
    "K = 512 # number of classes\n",
    "sequence_length = 20\n",
    "amp = 2\n",
    "\n",
    "trial = 1\n",
    "class_vectors = np.random.normal(size=(D,K))/np.sqrt(D)\n",
    "class_labels = np.random.normal(size=(D,K))/np.sqrt(D)\n",
    "\n",
    "token_sequence, classes_sequence = generate_token_sequence(class_vectors, class_labels, sequence_length)\n",
    "\n",
    "values = np.copy(token_sequence)\n",
    "queries = np.zeros((D,sequence_length))\n",
    "keys = np.zeros((D,sequence_length))\n",
    "\n",
    "for token in range(sequence_length):\n",
    "    if token==(sequence_length-1):\n",
    "        queries[:,token] = (token_sequence[:,token-1]*amp + token_sequence[:,token])/(amp+1)\n",
    "        keys[:,token] = np.random.normal(size=D)/np.sqrt(D)\n",
    "    else:\n",
    "        queries[:,token] = (token_sequence[:,token-1]*amp + token_sequence[:,token])/(amp+1)\n",
    "        keys[:,token] = (token_sequence[:,token-1]*amp + token_sequence[:,token])/(amp+1)\n",
    "\n",
    "next_token_attn = np.zeros((sequence_length))\n",
    "for i in range(0,sequence_length):\n",
    "    prod = np.dot(keys[:,i],queries[:,-1])\n",
    "    next_token_attn[i] = prod\n",
    "\n",
    "out = values[:,np.argmax(next_token_attn)]\n",
    "\n",
    "if np.all(out == class_labels[:,classes_sequence[-1]]):\n",
    "    print(\"Correct trial\")\n",
    "else:\n",
    "    print(\"Incorrect trial\")"
   ]
  },
  {
   "cell_type": "code",
   "execution_count": 256,
   "id": "8a29649d",
   "metadata": {},
   "outputs": [],
   "source": [
    "trials = 1_000\n",
    "\n",
    "D = 100 # number of non-positional dimensions\n",
    "K = 50 # number of classes\n",
    "sequence_length = 20\n",
    "amp = 1\n",
    "\n",
    "correct_trials_counts = []\n",
    "\n",
    "for amp in np.linspace(0,2,num=100):\n",
    "    correct_trials = 0\n",
    "    for trial in range(trials):\n",
    "        class_vectors = np.random.normal(size=(D,K))/np.sqrt(D)\n",
    "        class_labels = np.random.normal(size=(D,K))/np.sqrt(D)\n",
    "\n",
    "        token_sequence, classes_sequence = generate_token_sequence(class_vectors, class_labels, sequence_length)\n",
    "\n",
    "        values = np.copy(token_sequence)\n",
    "        queries = np.zeros((D,sequence_length))\n",
    "        keys = np.zeros((D,sequence_length))\n",
    "\n",
    "        for token in range(sequence_length):\n",
    "            if token==0:\n",
    "                queries[:,token] = (token_sequence[:,token-1]*amp + token_sequence[:,token])/(amp+1)\n",
    "                keys[:,token] = (token_sequence[:,token-1]*amp + token_sequence[:,token])/(amp+1)\n",
    "            elif token==(sequence_length-1):\n",
    "                queries[:,token] = (token_sequence[:,token-1]*amp + token_sequence[:,token])/(amp+1)\n",
    "                keys[:,token] = np.random.normal(size=D)/np.sqrt(D)\n",
    "            else:\n",
    "                queries[:,token] = (token_sequence[:,token-1]*amp + token_sequence[:,token])/(amp+1)\n",
    "                keys[:,token] = (token_sequence[:,token-1]*amp + token_sequence[:,token])/(amp+1)\n",
    "\n",
    "        next_token_attn = np.zeros((sequence_length))\n",
    "        for i in range(0,sequence_length):\n",
    "            prod = np.dot(keys[:,i],queries[:,-1])\n",
    "            next_token_attn[i] = prod\n",
    "\n",
    "        out = values[:,np.argmax(next_token_attn)]\n",
    "\n",
    "        if np.all(out == class_labels[:,classes_sequence[-1]]):\n",
    "            correct_trials += 1\n",
    "    correct_trials_counts.append(correct_trials)"
   ]
  },
  {
   "cell_type": "code",
   "execution_count": 265,
   "id": "71c6d773",
   "metadata": {},
   "outputs": [
    {
     "data": {
      "image/png": "[encoded data removed]",
      "text/plain": [
       "<Figure size 640x480 with 1 Axes>"
      ]
     },
     "metadata": {},
     "output_type": "display_data"
    }
   ],
   "source": [
    "plt.plot(np.linspace(0,2,num=100), [x/1000 for x in correct_trials_counts], color='black')\n",
    "plt.title(\"Dot product with argmax\")\n",
    "plt.ylabel(\"Proportion of correct trials (of 1,000)\")\n",
    "plt.xlabel(\"$a$\")\n",
    "plt.show()"
   ]
  },
  {
   "cell_type": "code",
   "execution_count": 285,
   "id": "3d2a05ce",
   "metadata": {},
   "outputs": [
    {
     "name": "stderr",
     "output_type": "stream",
     "text": [
      "C:\\ProgramData\\anaconda3\\Lib\\site-packages\\numpy\\lib\\function_base.py:2854: RuntimeWarning: invalid value encountered in divide\n",
      "  c /= stddev[:, None]\n",
      "C:\\ProgramData\\anaconda3\\Lib\\site-packages\\numpy\\lib\\function_base.py:2855: RuntimeWarning: invalid value encountered in divide\n",
      "  c /= stddev[None, :]\n"
     ]
    }
   ],
   "source": [
    "trials = 1_000\n",
    "\n",
    "D = 100 # number of non-positional dimensions\n",
    "K = 50 # number of classes\n",
    "sequence_length = 20\n",
    "amp = 1\n",
    "\n",
    "correct_trials_counts = []\n",
    "\n",
    "for amp in np.linspace(0,2,num=100):\n",
    "    correct_trials = 0\n",
    "    for trial in range(trials):\n",
    "        class_vectors = np.random.normal(size=(D,K))/np.sqrt(D)\n",
    "        class_labels = np.random.normal(size=(D,K))/np.sqrt(D)\n",
    "\n",
    "        token_sequence, classes_sequence = generate_token_sequence(class_vectors, class_labels, sequence_length)\n",
    "\n",
    "        values = np.copy(token_sequence)\n",
    "        queries = np.zeros((D,sequence_length))\n",
    "        keys = np.zeros((D,sequence_length))\n",
    "\n",
    "        for token in range(sequence_length):\n",
    "            if token==0:\n",
    "                queries[:,token] = (token_sequence[:,token-1]*amp + token_sequence[:,token])/(amp+1)\n",
    "                keys[:,token] = (token_sequence[:,token-1]*amp + token_sequence[:,token])/(amp+1)\n",
    "            elif token==(sequence_length-1):\n",
    "                queries[:,token] = (token_sequence[:,token-1]*amp + token_sequence[:,token])/(amp+1)\n",
    "                keys[:,token] = np.random.normal(size=D)/np.sqrt(D)\n",
    "            else:\n",
    "                queries[:,token] = (token_sequence[:,token-1]*amp + token_sequence[:,token])/(amp+1)\n",
    "                keys[:,token] = (token_sequence[:,token-1]*amp + token_sequence[:,token])/(amp+1)\n",
    "\n",
    "        next_token_attn = np.zeros((sequence_length))\n",
    "        for i in range(0,sequence_length):\n",
    "            prod = np.corrcoef(keys[:,i],queries[:,-1])[0,1]\n",
    "            next_token_attn[i] = prod\n",
    "\n",
    "        out = values[:,np.argmax(next_token_attn)]\n",
    "\n",
    "        if np.all(out == class_labels[:,classes_sequence[-1]]):\n",
    "            correct_trials += 1\n",
    "    correct_trials_counts.append(correct_trials)"
   ]
  },
  {
   "cell_type": "code",
   "execution_count": 291,
   "id": "9f4e41f5",
   "metadata": {},
   "outputs": [
    {
     "data": {
      "image/png": "[encoded data removed]",
      "text/plain": [
       "<Figure size 640x480 with 1 Axes>"
      ]
     },
     "metadata": {},
     "output_type": "display_data"
    }
   ],
   "source": [
    "plt.plot(np.linspace(0,2,num=100), [x/1000 for x in correct_trials_counts], color='black')\n",
    "plt.title(\"Pearson's correlation with argmax\")\n",
    "plt.ylim(-0.04,1.04)\n",
    "plt.ylabel(\"Proportion of correct trials (of 1,000)\")\n",
    "plt.xlabel(\"$a$\")\n",
    "plt.show()"
   ]
  },
  {
   "cell_type": "code",
   "execution_count": 292,
   "id": "0c849eb2",
   "metadata": {},
   "outputs": [],
   "source": [
    "trials = 1_000\n",
    "\n",
    "D = 100 # number of non-positional dimensions\n",
    "K = 50 # number of classes\n",
    "sequence_length = 20\n",
    "amp = 2\n",
    "\n",
    "correct_trials_counts = []\n",
    "\n",
    "for sequence_length in [10,20,40,100,500,1000]:\n",
    "    correct_trials = 0\n",
    "    for trial in range(trials):\n",
    "        class_vectors = np.random.normal(size=(D,K))/np.sqrt(D)\n",
    "        class_labels = np.random.normal(size=(D,K))/np.sqrt(D)\n",
    "\n",
    "        token_sequence, classes_sequence = generate_token_sequence(class_vectors, class_labels, sequence_length)\n",
    "\n",
    "        values = np.copy(token_sequence)\n",
    "        queries = np.zeros((D,sequence_length))\n",
    "        keys = np.zeros((D,sequence_length))\n",
    "\n",
    "        for token in range(sequence_length):\n",
    "            if token==0:\n",
    "                queries[:,token] = (token_sequence[:,token-1]*amp + token_sequence[:,token])/(amp+1)\n",
    "                keys[:,token] = (token_sequence[:,token-1]*amp + token_sequence[:,token])/(amp+1)\n",
    "            elif token==(sequence_length-1):\n",
    "                queries[:,token] = (token_sequence[:,token-1]*amp + token_sequence[:,token])/(amp+1)\n",
    "                keys[:,token] = np.random.normal(size=D)/np.sqrt(D)\n",
    "            else:\n",
    "                queries[:,token] = (token_sequence[:,token-1]*amp + token_sequence[:,token])/(amp+1)\n",
    "                keys[:,token] = (token_sequence[:,token-1]*amp + token_sequence[:,token])/(amp+1)\n",
    "\n",
    "        next_token_attn = np.zeros((sequence_length))\n",
    "        for i in range(0,sequence_length):\n",
    "            prod = np.dot(keys[:,i],queries[:,-1])\n",
    "            next_token_attn[i] = prod\n",
    "\n",
    "        out = values[:,np.argmax(next_token_attn)]\n",
    "\n",
    "        if np.all(out == class_labels[:,classes_sequence[-1]]):\n",
    "            correct_trials += 1\n",
    "    correct_trials_counts.append(correct_trials)"
   ]
  },
  {
   "cell_type": "code",
   "execution_count": 298,
   "id": "95c1dbe9",
   "metadata": {},
   "outputs": [
    {
     "data": {
      "image/png": "[encoded data removed]",
      "text/plain": [
       "<Figure size 640x480 with 1 Axes>"
      ]
     },
     "metadata": {},
     "output_type": "display_data"
    }
   ],
   "source": [
    "plt.plot([10,20,40,100,500,1000], [x/1000 for x in correct_trials_counts], color='black')\n",
    "plt.title(\"Dot product with argmax ($a=2$)\")\n",
    "plt.ylim(-0.04,1.04)\n",
    "plt.xticks([10,100,500,1000])\n",
    "plt.ylabel(\"Proportion of correct trials (of 1,000)\")\n",
    "plt.xlabel(\"Sequence length\")\n",
    "plt.show()"
   ]
  },
  {
   "cell_type": "code",
   "execution_count": 299,
   "id": "de87a29d",
   "metadata": {},
   "outputs": [],
   "source": [
    "trials = 1_000\n",
    "\n",
    "D = 100 # number of non-positional dimensions\n",
    "K = 50 # number of classes\n",
    "sequence_length = 20\n",
    "amp = 2\n",
    "\n",
    "correct_trials_counts = []\n",
    "\n",
    "for D in [10,20,40,100,500,1000]:\n",
    "    correct_trials = 0\n",
    "    for trial in range(trials):\n",
    "        class_vectors = np.random.normal(size=(D,K))/np.sqrt(D)\n",
    "        class_labels = np.random.normal(size=(D,K))/np.sqrt(D)\n",
    "\n",
    "        token_sequence, classes_sequence = generate_token_sequence(class_vectors, class_labels, sequence_length)\n",
    "\n",
    "        values = np.copy(token_sequence)\n",
    "        queries = np.zeros((D,sequence_length))\n",
    "        keys = np.zeros((D,sequence_length))\n",
    "\n",
    "        for token in range(sequence_length):\n",
    "            if token==0:\n",
    "                queries[:,token] = (token_sequence[:,token-1]*amp + token_sequence[:,token])/(amp+1)\n",
    "                keys[:,token] = (token_sequence[:,token-1]*amp + token_sequence[:,token])/(amp+1)\n",
    "            elif token==(sequence_length-1):\n",
    "                queries[:,token] = (token_sequence[:,token-1]*amp + token_sequence[:,token])/(amp+1)\n",
    "                keys[:,token] = np.random.normal(size=D)/np.sqrt(D)\n",
    "            else:\n",
    "                queries[:,token] = (token_sequence[:,token-1]*amp + token_sequence[:,token])/(amp+1)\n",
    "                keys[:,token] = (token_sequence[:,token-1]*amp + token_sequence[:,token])/(amp+1)\n",
    "\n",
    "        next_token_attn = np.zeros((sequence_length))\n",
    "        for i in range(0,sequence_length):\n",
    "            prod = np.dot(keys[:,i],queries[:,-1])\n",
    "            next_token_attn[i] = prod\n",
    "\n",
    "        out = values[:,np.argmax(next_token_attn)]\n",
    "\n",
    "        if np.all(out == class_labels[:,classes_sequence[-1]]):\n",
    "            correct_trials += 1\n",
    "    correct_trials_counts.append(correct_trials)"
   ]
  },
  {
   "cell_type": "code",
   "execution_count": 300,
   "id": "96aad055",
   "metadata": {},
   "outputs": [
    {
     "data": {
      "image/png": "[encoded data removed]",
      "text/plain": [
       "<Figure size 640x480 with 1 Axes>"
      ]
     },
     "metadata": {},
     "output_type": "display_data"
    }
   ],
   "source": [
    "plt.plot([10,20,40,100,500,1000], [x/1000 for x in correct_trials_counts], color='black')\n",
    "plt.title(\"Dot product with argmax ($a=2$)\")\n",
    "plt.ylim(-0.04,1.04)\n",
    "plt.xticks([10,100,500,1000])\n",
    "plt.ylabel(\"Proportion of correct trials (of 1,000)\")\n",
    "plt.xlabel(\"Token dimensions\")\n",
    "plt.show()"
   ]
  },
  {
   "cell_type": "code",
   "execution_count": 126,
   "id": "730c7441",
   "metadata": {},
   "outputs": [
    {
     "name": "stdout",
     "output_type": "stream",
     "text": [
      "Number of correct trials: 325\n"
     ]
    }
   ],
   "source": [
    "trials = 1_000\n",
    "correct_trials = 0\n",
    "\n",
    "D = 100 # number of non-positional dimensions\n",
    "K = 512 # number of classes\n",
    "sequence_length = 20\n",
    "amp = 1\n",
    "\n",
    "for trial in range(trials):\n",
    "    class_vectors = np.random.normal(size=(D,K))/np.sqrt(D)\n",
    "    class_labels = np.random.normal(size=(D,K))/np.sqrt(D)\n",
    "\n",
    "    token_sequence, classes_sequence = generate_token_sequence(class_vectors, class_labels, sequence_length)\n",
    "\n",
    "    values = np.copy(token_sequence)\n",
    "    queries = np.zeros((D,sequence_length))\n",
    "    keys = np.zeros((D,sequence_length))\n",
    "\n",
    "    for token in range(sequence_length):\n",
    "        if token==0:\n",
    "            queries[:,token] = (token_sequence[:,token-1]*amp + token_sequence[:,token])/(amp+1)\n",
    "            keys[:,token] = (token_sequence[:,token-1]*amp + token_sequence[:,token])/(amp+1)\n",
    "        elif token==(sequence_length-1):\n",
    "            queries[:,token] = (token_sequence[:,token-1]*amp + token_sequence[:,token])/(amp+1)\n",
    "            keys[:,token] = np.random.normal(size=D)/np.sqrt(D)\n",
    "        else:\n",
    "            queries[:,token] = (token_sequence[:,token-1]*amp + token_sequence[:,token])/(amp+1)\n",
    "            keys[:,token] = (token_sequence[:,token-1]*amp + token_sequence[:,token])/(amp+1)\n",
    "\n",
    "    next_token_attn = np.zeros((sequence_length))\n",
    "    for i in range(0,sequence_length):\n",
    "        prod = np.dot(keys[:,i],queries[:,-1])\n",
    "        next_token_attn[i] = prod\n",
    "\n",
    "    out = values[:,np.argmax(next_token_attn)]\n",
    "\n",
    "    if np.all(out == class_labels[:,classes_sequence[-1]]):\n",
    "        correct_trials += 1\n",
    "        \n",
    "print(\"Number of correct trials:\", correct_trials)"
   ]
  },
  {
   "cell_type": "code",
   "execution_count": 127,
   "id": "3813f6f3",
   "metadata": {},
   "outputs": [
    {
     "name": "stdout",
     "output_type": "stream",
     "text": [
      "Number of correct trials: 315\n"
     ]
    }
   ],
   "source": [
    "trials = 1_000\n",
    "correct_trials = 0\n",
    "\n",
    "D = 1000 # number of non-positional dimensions\n",
    "K = 512 # number of classes\n",
    "sequence_length = 20\n",
    "amp = 1\n",
    "\n",
    "for trial in range(trials):\n",
    "    class_vectors = np.random.normal(size=(D,K))/np.sqrt(D)\n",
    "    class_labels = np.random.normal(size=(D,K))/np.sqrt(D)\n",
    "\n",
    "    token_sequence, classes_sequence = generate_token_sequence(class_vectors, class_labels, sequence_length)\n",
    "\n",
    "    values = np.copy(token_sequence)\n",
    "    queries = np.zeros((D,sequence_length))\n",
    "    keys = np.zeros((D,sequence_length))\n",
    "\n",
    "    for token in range(sequence_length):\n",
    "        if token==0:\n",
    "            queries[:,token] = (token_sequence[:,token-1]*amp + token_sequence[:,token])/(amp+1)\n",
    "            keys[:,token] = (token_sequence[:,token-1]*amp + token_sequence[:,token])/(amp+1)\n",
    "        elif token==(sequence_length-1):\n",
    "            queries[:,token] = (token_sequence[:,token-1]*amp + token_sequence[:,token])/(amp+1)\n",
    "            keys[:,token] = np.random.normal(size=D)/np.sqrt(D)\n",
    "        else:\n",
    "            queries[:,token] = (token_sequence[:,token-1]*amp + token_sequence[:,token])/(amp+1)\n",
    "            keys[:,token] = (token_sequence[:,token-1]*amp + token_sequence[:,token])/(amp+1)\n",
    "\n",
    "    next_token_attn = np.zeros((sequence_length))\n",
    "    for i in range(0,sequence_length):\n",
    "        prod = np.dot(keys[:,i],queries[:,-1])\n",
    "        next_token_attn[i] = prod\n",
    "\n",
    "    out = values[:,np.argmax(next_token_attn)]\n",
    "\n",
    "    if np.all(out == class_labels[:,classes_sequence[-1]]):\n",
    "        correct_trials += 1\n",
    "        \n",
    "print(\"Number of correct trials:\", correct_trials)"
   ]
  },
  {
   "cell_type": "code",
   "execution_count": 128,
   "id": "2dde5d2a",
   "metadata": {},
   "outputs": [
    {
     "name": "stdout",
     "output_type": "stream",
     "text": [
      "Number of correct trials: 321\n"
     ]
    }
   ],
   "source": [
    "trials = 1_000\n",
    "correct_trials = 0\n",
    "\n",
    "D = 1000 # number of non-positional dimensions\n",
    "K = 512*2 # number of classes\n",
    "sequence_length = 20\n",
    "amp = 1\n",
    "\n",
    "for trial in range(trials):\n",
    "    class_vectors = np.random.normal(size=(D,K))/np.sqrt(D)\n",
    "    class_labels = np.random.normal(size=(D,K))/np.sqrt(D)\n",
    "\n",
    "    token_sequence, classes_sequence = generate_token_sequence(class_vectors, class_labels, sequence_length)\n",
    "\n",
    "    values = np.copy(token_sequence)\n",
    "    queries = np.zeros((D,sequence_length))\n",
    "    keys = np.zeros((D,sequence_length))\n",
    "\n",
    "    for token in range(sequence_length):\n",
    "        if token==0:\n",
    "            queries[:,token] = (token_sequence[:,token-1]*amp + token_sequence[:,token])/(amp+1)\n",
    "            keys[:,token] = (token_sequence[:,token-1]*amp + token_sequence[:,token])/(amp+1)\n",
    "        elif token==(sequence_length-1):\n",
    "            queries[:,token] = (token_sequence[:,token-1]*amp + token_sequence[:,token])/(amp+1)\n",
    "            keys[:,token] = np.random.normal(size=D)/np.sqrt(D)\n",
    "        else:\n",
    "            queries[:,token] = (token_sequence[:,token-1]*amp + token_sequence[:,token])/(amp+1)\n",
    "            keys[:,token] = (token_sequence[:,token-1]*amp + token_sequence[:,token])/(amp+1)\n",
    "\n",
    "    next_token_attn = np.zeros((sequence_length))\n",
    "    for i in range(0,sequence_length):\n",
    "        prod = np.dot(keys[:,i],queries[:,-1])\n",
    "        next_token_attn[i] = prod\n",
    "\n",
    "    out = values[:,np.argmax(next_token_attn)]\n",
    "\n",
    "    if np.all(out == class_labels[:,classes_sequence[-1]]):\n",
    "        correct_trials += 1\n",
    "        \n",
    "print(\"Number of correct trials:\", correct_trials)"
   ]
  },
  {
   "cell_type": "code",
   "execution_count": 129,
   "id": "30932d0e",
   "metadata": {},
   "outputs": [
    {
     "name": "stdout",
     "output_type": "stream",
     "text": [
      "Number of correct trials: 342\n"
     ]
    }
   ],
   "source": [
    "trials = 1_000\n",
    "correct_trials = 0\n",
    "\n",
    "D = 100 # number of non-positional dimensions\n",
    "K = 512*2 # number of classes\n",
    "sequence_length = 20\n",
    "amp = 1\n",
    "\n",
    "for trial in range(trials):\n",
    "    class_vectors = np.random.normal(size=(D,K))/np.sqrt(D)\n",
    "    class_labels = np.random.normal(size=(D,K))/np.sqrt(D)\n",
    "\n",
    "    token_sequence, classes_sequence = generate_token_sequence(class_vectors, class_labels, sequence_length)\n",
    "\n",
    "    values = np.copy(token_sequence)\n",
    "    queries = np.zeros((D,sequence_length))\n",
    "    keys = np.zeros((D,sequence_length))\n",
    "\n",
    "    for token in range(sequence_length):\n",
    "        if token==0:\n",
    "            queries[:,token] = (token_sequence[:,token-1]*amp + token_sequence[:,token])/(amp+1)\n",
    "            keys[:,token] = (token_sequence[:,token-1]*amp + token_sequence[:,token])/(amp+1)\n",
    "        elif token==(sequence_length-1):\n",
    "            queries[:,token] = (token_sequence[:,token-1]*amp + token_sequence[:,token])/(amp+1)\n",
    "            keys[:,token] = np.random.normal(size=D)/np.sqrt(D)\n",
    "        else:\n",
    "            queries[:,token] = (token_sequence[:,token-1]*amp + token_sequence[:,token])/(amp+1)\n",
    "            keys[:,token] = (token_sequence[:,token-1]*amp + token_sequence[:,token])/(amp+1)\n",
    "\n",
    "    next_token_attn = np.zeros((sequence_length))\n",
    "    for i in range(0,sequence_length):\n",
    "        prod = np.dot(keys[:,i],queries[:,-1])\n",
    "        next_token_attn[i] = prod\n",
    "\n",
    "    out = values[:,np.argmax(next_token_attn)]\n",
    "\n",
    "    if np.all(out == class_labels[:,classes_sequence[-1]]):\n",
    "        correct_trials += 1\n",
    "        \n",
    "print(\"Number of correct trials:\", correct_trials)"
   ]
  },
  {
   "cell_type": "code",
   "execution_count": 130,
   "id": "a821cce7",
   "metadata": {},
   "outputs": [
    {
     "name": "stdout",
     "output_type": "stream",
     "text": [
      "Number of correct trials: 315\n"
     ]
    }
   ],
   "source": [
    "trials = 1_000\n",
    "correct_trials = 0\n",
    "\n",
    "D = 100 # number of non-positional dimensions\n",
    "K = 512 # number of classes\n",
    "sequence_length = 100\n",
    "amp = 1\n",
    "\n",
    "for trial in range(trials):\n",
    "    class_vectors = np.random.normal(size=(D,K))/np.sqrt(D)\n",
    "    class_labels = np.random.normal(size=(D,K))/np.sqrt(D)\n",
    "\n",
    "    token_sequence, classes_sequence = generate_token_sequence(class_vectors, class_labels, sequence_length)\n",
    "\n",
    "    values = np.copy(token_sequence)\n",
    "    queries = np.zeros((D,sequence_length))\n",
    "    keys = np.zeros((D,sequence_length))\n",
    "\n",
    "    for token in range(sequence_length):\n",
    "        if token==0:\n",
    "            queries[:,token] = (token_sequence[:,token-1]*amp + token_sequence[:,token])/(amp+1)\n",
    "            keys[:,token] = (token_sequence[:,token-1]*amp + token_sequence[:,token])/(amp+1)\n",
    "        elif token==(sequence_length-1):\n",
    "            queries[:,token] = (token_sequence[:,token-1]*amp + token_sequence[:,token])/(amp+1)\n",
    "            keys[:,token] = np.random.normal(size=D)/np.sqrt(D)\n",
    "        else:\n",
    "            queries[:,token] = (token_sequence[:,token-1]*amp + token_sequence[:,token])/(amp+1)\n",
    "            keys[:,token] = (token_sequence[:,token-1]*amp + token_sequence[:,token])/(amp+1)\n",
    "\n",
    "    next_token_attn = np.zeros((sequence_length))\n",
    "    for i in range(0,sequence_length):\n",
    "        prod = np.dot(keys[:,i],queries[:,-1])\n",
    "        next_token_attn[i] = prod\n",
    "\n",
    "    out = values[:,np.argmax(next_token_attn)]\n",
    "\n",
    "    if np.all(out == class_labels[:,classes_sequence[-1]]):\n",
    "        correct_trials += 1\n",
    "        \n",
    "print(\"Number of correct trials:\", correct_trials)"
   ]
  },
  {
   "cell_type": "code",
   "execution_count": 131,
   "id": "db6c5909",
   "metadata": {},
   "outputs": [
    {
     "name": "stdout",
     "output_type": "stream",
     "text": [
      "Number of correct trials: 994\n"
     ]
    }
   ],
   "source": [
    "trials = 1_000\n",
    "correct_trials = 0\n",
    "\n",
    "D = 100 # number of non-positional dimensions\n",
    "K = 512 # number of classes\n",
    "sequence_length = 20\n",
    "amp = 1.5\n",
    "\n",
    "for trial in range(trials):\n",
    "    class_vectors = np.random.normal(size=(D,K))/np.sqrt(D)\n",
    "    class_labels = np.random.normal(size=(D,K))/np.sqrt(D)\n",
    "\n",
    "    token_sequence, classes_sequence = generate_token_sequence(class_vectors, class_labels, sequence_length)\n",
    "\n",
    "    values = np.copy(token_sequence)\n",
    "    queries = np.zeros((D,sequence_length))\n",
    "    keys = np.zeros((D,sequence_length))\n",
    "\n",
    "    for token in range(sequence_length):\n",
    "        if token==0:\n",
    "            queries[:,token] = (token_sequence[:,token-1]*amp + token_sequence[:,token])/(amp+1)\n",
    "            keys[:,token] = (token_sequence[:,token-1]*amp + token_sequence[:,token])/(amp+1)\n",
    "        elif token==(sequence_length-1):\n",
    "            queries[:,token] = (token_sequence[:,token-1]*amp + token_sequence[:,token])/(amp+1)\n",
    "            keys[:,token] = np.random.normal(size=D)/np.sqrt(D)\n",
    "        else:\n",
    "            queries[:,token] = (token_sequence[:,token-1]*amp + token_sequence[:,token])/(amp+1)\n",
    "            keys[:,token] = (token_sequence[:,token-1]*amp + token_sequence[:,token])/(amp+1)\n",
    "\n",
    "    next_token_attn = np.zeros((sequence_length))\n",
    "    for i in range(0,sequence_length):\n",
    "        prod = np.dot(keys[:,i],queries[:,-1])\n",
    "        next_token_attn[i] = prod\n",
    "\n",
    "    out = values[:,np.argmax(next_token_attn)]\n",
    "\n",
    "    if np.all(out == class_labels[:,classes_sequence[-1]]):\n",
    "        correct_trials += 1\n",
    "        \n",
    "print(\"Number of correct trials:\", correct_trials)"
   ]
  },
  {
   "cell_type": "code",
   "execution_count": 132,
   "id": "bde58a6d",
   "metadata": {},
   "outputs": [
    {
     "name": "stdout",
     "output_type": "stream",
     "text": [
      "Number of correct trials: 907\n"
     ]
    }
   ],
   "source": [
    "trials = 1_000\n",
    "correct_trials = 0\n",
    "\n",
    "D = 100 # number of non-positional dimensions\n",
    "K = 512 # number of classes\n",
    "sequence_length = 20\n",
    "amp = 1.25\n",
    "\n",
    "for trial in range(trials):\n",
    "    class_vectors = np.random.normal(size=(D,K))/np.sqrt(D)\n",
    "    class_labels = np.random.normal(size=(D,K))/np.sqrt(D)\n",
    "\n",
    "    token_sequence, classes_sequence = generate_token_sequence(class_vectors, class_labels, sequence_length)\n",
    "\n",
    "    values = np.copy(token_sequence)\n",
    "    queries = np.zeros((D,sequence_length))\n",
    "    keys = np.zeros((D,sequence_length))\n",
    "\n",
    "    for token in range(sequence_length):\n",
    "        if token==0:\n",
    "            queries[:,token] = (token_sequence[:,token-1]*amp + token_sequence[:,token])/(amp+1)\n",
    "            keys[:,token] = (token_sequence[:,token-1]*amp + token_sequence[:,token])/(amp+1)\n",
    "        elif token==(sequence_length-1):\n",
    "            queries[:,token] = (token_sequence[:,token-1]*amp + token_sequence[:,token])/(amp+1)\n",
    "            keys[:,token] = np.random.normal(size=D)/np.sqrt(D)\n",
    "        else:\n",
    "            queries[:,token] = (token_sequence[:,token-1]*amp + token_sequence[:,token])/(amp+1)\n",
    "            keys[:,token] = (token_sequence[:,token-1]*amp + token_sequence[:,token])/(amp+1)\n",
    "\n",
    "    next_token_attn = np.zeros((sequence_length))\n",
    "    for i in range(0,sequence_length):\n",
    "        prod = np.dot(keys[:,i],queries[:,-1])\n",
    "        next_token_attn[i] = prod\n",
    "\n",
    "    out = values[:,np.argmax(next_token_attn)]\n",
    "\n",
    "    if np.all(out == class_labels[:,classes_sequence[-1]]):\n",
    "        correct_trials += 1\n",
    "        \n",
    "print(\"Number of correct trials:\", correct_trials)"
   ]
  },
  {
   "cell_type": "code",
   "execution_count": 133,
   "id": "9285c818",
   "metadata": {},
   "outputs": [
    {
     "name": "stdout",
     "output_type": "stream",
     "text": [
      "Number of correct trials: 1000\n"
     ]
    }
   ],
   "source": [
    "trials = 1_000\n",
    "correct_trials = 0\n",
    "\n",
    "D = 100 # number of non-positional dimensions\n",
    "K = 512 # number of classes\n",
    "sequence_length = 20\n",
    "amp = 1.75\n",
    "\n",
    "for trial in range(trials):\n",
    "    class_vectors = np.random.normal(size=(D,K))/np.sqrt(D)\n",
    "    class_labels = np.random.normal(size=(D,K))/np.sqrt(D)\n",
    "\n",
    "    token_sequence, classes_sequence = generate_token_sequence(class_vectors, class_labels, sequence_length)\n",
    "\n",
    "    values = np.copy(token_sequence)\n",
    "    queries = np.zeros((D,sequence_length))\n",
    "    keys = np.zeros((D,sequence_length))\n",
    "\n",
    "    for token in range(sequence_length):\n",
    "        if token==0:\n",
    "            queries[:,token] = (token_sequence[:,token-1]*amp + token_sequence[:,token])/(amp+1)\n",
    "            keys[:,token] = (token_sequence[:,token-1]*amp + token_sequence[:,token])/(amp+1)\n",
    "        elif token==(sequence_length-1):\n",
    "            queries[:,token] = (token_sequence[:,token-1]*amp + token_sequence[:,token])/(amp+1)\n",
    "            keys[:,token] = np.random.normal(size=D)/np.sqrt(D)\n",
    "        else:\n",
    "            queries[:,token] = (token_sequence[:,token-1]*amp + token_sequence[:,token])/(amp+1)\n",
    "            keys[:,token] = (token_sequence[:,token-1]*amp + token_sequence[:,token])/(amp+1)\n",
    "\n",
    "    next_token_attn = np.zeros((sequence_length))\n",
    "    for i in range(0,sequence_length):\n",
    "        prod = np.dot(keys[:,i],queries[:,-1])\n",
    "        next_token_attn[i] = prod\n",
    "\n",
    "    out = values[:,np.argmax(next_token_attn)]\n",
    "\n",
    "    if np.all(out == class_labels[:,classes_sequence[-1]]):\n",
    "        correct_trials += 1\n",
    "        \n",
    "print(\"Number of correct trials:\", correct_trials)"
   ]
  },
  {
   "cell_type": "code",
   "execution_count": 232,
   "id": "e4b0988b",
   "metadata": {},
   "outputs": [
    {
     "name": "stdout",
     "output_type": "stream",
     "text": [
      "Correct trial\n"
     ]
    }
   ],
   "source": [
    "D = 100 # number of non-positional dimensions\n",
    "K = 512 # number of classes\n",
    "sequence_length = 20\n",
    "amp = 2\n",
    "\n",
    "class_vectors = np.random.normal(size=(D,K))/np.sqrt(D)\n",
    "class_labels = np.random.normal(size=(D,K))/np.sqrt(D)\n",
    "\n",
    "token_sequence, classes_sequence = generate_token_sequence(class_vectors, class_labels, sequence_length)\n",
    "\n",
    "values = np.copy(token_sequence)\n",
    "queries = np.zeros((D,sequence_length))\n",
    "keys = np.zeros((D,sequence_length))\n",
    "\n",
    "for token in range(sequence_length):\n",
    "    if token==0:\n",
    "        queries[:,token] = (token_sequence[:,token-1]*amp + token_sequence[:,token])/(amp+1)\n",
    "        keys[:,token] = (token_sequence[:,token-1]*amp + token_sequence[:,token])/(amp+1)\n",
    "    elif token==(sequence_length-1):\n",
    "        queries[:,token] = (token_sequence[:,token-1]*amp + token_sequence[:,token])/(amp+1)\n",
    "        keys[:,token] = np.random.normal(size=D)/np.sqrt(D)\n",
    "    else:\n",
    "        queries[:,token] = (token_sequence[:,token-1]*amp + token_sequence[:,token])/(amp+1)\n",
    "        keys[:,token] = (token_sequence[:,token-1]*amp + token_sequence[:,token])/(amp+1)\n",
    "\n",
    "next_token_attn = np.zeros((sequence_length))\n",
    "for i in range(0,sequence_length):\n",
    "    prod = np.dot(keys[:,i],queries[:,-1])\n",
    "    next_token_attn[i] = prod\n",
    "\n",
    "out = values[:,np.argmax(next_token_attn)]\n",
    "\n",
    "if np.all(out == class_labels[:,classes_sequence[-1]]):\n",
    "    print(\"Correct trial\")\n",
    "else:\n",
    "    print(\"Incorrect trial\")"
   ]
  },
  {
   "cell_type": "code",
   "execution_count": 233,
   "id": "fb44e743",
   "metadata": {},
   "outputs": [],
   "source": [
    "attn_mat_dotprod = np.zeros((sequence_length,sequence_length))\n",
    "attn_mat_ED = np.zeros((sequence_length,sequence_length))\n",
    "attn_mat_MD = np.zeros((sequence_length,sequence_length))\n",
    "attn_mat_corr = np.zeros((sequence_length,sequence_length))\n",
    "\n",
    "for i in range(0,sequence_length):\n",
    "    for j in range(0,sequence_length):\n",
    "        if i>j:\n",
    "            attn_mat_dotprod[i,j] = np.dot(keys[:,i],queries[:,j])\n",
    "            attn_mat_ED[i,j] = distance.euclidean(keys[:,i],queries[:,j])\n",
    "            attn_mat_MD[i,j] = distance.cityblock(keys[:,i],queries[:,j])\n",
    "            attn_mat_corr[i,j] = np.corrcoef(keys[:,i],queries[:,j])[0,1]\n",
    "            \n",
    "attn_mat_dotprod_softmax = np.copy(attn_mat_dotprod)\n",
    "for i in range(0,sequence_length):\n",
    "    attn_mat_dotprod_softmax[i,:] = softmax(attn_mat_dotprod_softmax[i,:])\n",
    "attn_mat_dotprod_argmax = np.copy(attn_mat_dotprod)\n",
    "for i in range(0,sequence_length):\n",
    "    attn_mat_dotprod_argmax[i,:] = np.eye(sequence_length)[np.argmax(attn_mat_dotprod_argmax[i,:])]\n",
    "    \n",
    "attn_mat_ED_softmax = np.copy(attn_mat_ED)\n",
    "for i in range(0,sequence_length):\n",
    "    attn_mat_ED_softmax[i,:] = softmax(attn_mat_ED_softmax[i,:])\n",
    "attn_mat_ED_argmax = np.copy(attn_mat_ED)\n",
    "for i in range(0,sequence_length):\n",
    "    attn_mat_ED_argmax[i,:] = np.eye(sequence_length)[np.argmax(attn_mat_ED_argmax[i,:])]\n",
    "\n",
    "attn_mat_MD_softmax = np.copy(attn_mat_MD)\n",
    "for i in range(0,sequence_length):\n",
    "    attn_mat_MD_softmax[i,:] = softmax(attn_mat_MD_softmax[i,:])\n",
    "attn_mat_MD_argmax = np.copy(attn_mat_MD)\n",
    "for i in range(0,sequence_length):\n",
    "    attn_mat_MD_argmax[i,:] = np.eye(sequence_length)[np.argmax(attn_mat_MD_argmax[i,:])]\n",
    "\n",
    "attn_mat_corr_softmax = np.copy(attn_mat_corr)\n",
    "for i in range(0,sequence_length):\n",
    "    attn_mat_corr_softmax[i,:] = softmax(attn_mat_corr_softmax[i,:])\n",
    "attn_mat_corr_argmax = np.copy(attn_mat_corr)\n",
    "for i in range(0,sequence_length):\n",
    "    attn_mat_corr_argmax[i,:] = np.eye(sequence_length)[np.argmax(attn_mat_corr_argmax[i,:])]"
   ]
  },
  {
   "cell_type": "code",
   "execution_count": 234,
   "id": "aa96b6eb",
   "metadata": {},
   "outputs": [
    {
     "data": {
      "image/png": "[encoded data removed]",
      "text/plain": [
       "<Figure size 1500x500 with 3 Axes>"
      ]
     },
     "metadata": {},
     "output_type": "display_data"
    }
   ],
   "source": [
    "plt.figure(figsize=(5*3,5))\n",
    "\n",
    "plt.subplot(1,N,1)\n",
    "plt.imshow(attn_mat_dotprod)\n",
    "plt.axis(\"off\")\n",
    "plt.title(\"Scores (dot products)\")\n",
    "\n",
    "plt.subplot(1,N,2)\n",
    "plt.imshow(attn_mat_dotprod_softmax)\n",
    "plt.axis(\"off\")\n",
    "plt.title(\"Softmax\")\n",
    "\n",
    "plt.subplot(1,N,3)\n",
    "plt.imshow(attn_mat_dotprod_argmax)\n",
    "plt.axis(\"off\")\n",
    "plt.title(\"Argmax\")\n",
    "\n",
    "plt.tight_layout()\n",
    "plt.show()"
   ]
  },
  {
   "cell_type": "code",
   "execution_count": 283,
   "id": "7e7aa5c9",
   "metadata": {},
   "outputs": [
    {
     "data": {
      "text/plain": [
       "<Figure size 500x1500 with 0 Axes>"
      ]
     },
     "metadata": {},
     "output_type": "display_data"
    },
    {
     "data": {
      "image/png": "[encoded data removed]",
      "text/plain": [
       "<Figure size 640x480 with 3 Axes>"
      ]
     },
     "metadata": {},
     "output_type": "display_data"
    }
   ],
   "source": [
    "plt.figure(figsize=(5,5*3))\n",
    "fig, axs = plt.subplots(3, 1)\n",
    "\n",
    "#plt.subplot(1,1)\n",
    "axs[0].imshow(attn_mat_dotprod)\n",
    "axs[0].axis(\"off\")\n",
    "axs[0].set_title(\"Dot product\")\n",
    "\n",
    "#plt.subplot(2)\n",
    "axs[1].imshow(attn_mat_dotprod_softmax)\n",
    "axs[1].axis(\"off\")\n",
    "#axs[1].set_title(\"Softmax\")\n",
    "\n",
    "#plt.subplot(3)\n",
    "axs[2].imshow(attn_mat_dotprod_argmax)\n",
    "axs[2].axis(\"off\")\n",
    "#axs[2].set_title(\"Argmax\")\n",
    "\n",
    "plt.tight_layout()\n",
    "plt.show()"
   ]
  },
  {
   "cell_type": "code",
   "execution_count": 284,
   "id": "5489acd1",
   "metadata": {},
   "outputs": [
    {
     "data": {
      "text/plain": [
       "<Figure size 500x1500 with 0 Axes>"
      ]
     },
     "metadata": {},
     "output_type": "display_data"
    },
    {
     "data": {
      "image/png": "[encoded data removed]",
      "text/plain": [
       "<Figure size 640x480 with 3 Axes>"
      ]
     },
     "metadata": {},
     "output_type": "display_data"
    }
   ],
   "source": [
    "plt.figure(figsize=(5,5*3))\n",
    "fig, axs = plt.subplots(3, 1)\n",
    "\n",
    "#plt.subplot(1,1)\n",
    "axs[0].imshow(attn_mat_corr)\n",
    "axs[0].axis(\"off\")\n",
    "axs[0].set_title(\"Pearson's correlation\")\n",
    "\n",
    "#plt.subplot(2)\n",
    "axs[1].imshow(attn_mat_corr_softmax)\n",
    "axs[1].axis(\"off\")\n",
    "#axs[1].set_title(\"Softmax\")\n",
    "\n",
    "#plt.subplot(3)\n",
    "axs[2].imshow(attn_mat_corr_argmax)\n",
    "axs[2].axis(\"off\")\n",
    "#axs[2].set_title(\"Argmax\")\n",
    "\n",
    "plt.tight_layout()\n",
    "plt.show()"
   ]
  },
  {
   "cell_type": "code",
   "execution_count": 281,
   "id": "ff4144c8",
   "metadata": {},
   "outputs": [
    {
     "data": {
      "text/plain": [
       "<Figure size 500x1500 with 0 Axes>"
      ]
     },
     "metadata": {},
     "output_type": "display_data"
    },
    {
     "data": {
      "image/png": "[encoded data removed]",
      "text/plain": [
       "<Figure size 640x480 with 3 Axes>"
      ]
     },
     "metadata": {},
     "output_type": "display_data"
    }
   ],
   "source": [
    "plt.figure(figsize=(5,5*3))\n",
    "fig, axs = plt.subplots(3, 1)\n",
    "\n",
    "#plt.subplot(1,1)\n",
    "axs[0].imshow(attn_mat_MD)\n",
    "axs[0].axis(\"off\")\n",
    "axs[0].set_title(\"Manhattan distance\")\n",
    "\n",
    "#plt.subplot(2)\n",
    "axs[1].imshow(attn_mat_MD_softmax)\n",
    "axs[1].axis(\"off\")\n",
    "#axs[1].set_title(\"Softmax\")\n",
    "\n",
    "#plt.subplot(3)\n",
    "axs[2].imshow(attn_mat_MD_argmax)\n",
    "axs[2].axis(\"off\")\n",
    "#axs[2].set_title(\"Argmax\")\n",
    "\n",
    "plt.tight_layout()\n",
    "plt.show()"
   ]
  },
  {
   "cell_type": "code",
   "execution_count": 280,
   "id": "bbf2cdb2",
   "metadata": {},
   "outputs": [
    {
     "data": {
      "text/plain": [
       "<Figure size 500x1500 with 0 Axes>"
      ]
     },
     "metadata": {},
     "output_type": "display_data"
    },
    {
     "data": {
      "image/png": "[encoded data removed]",
      "text/plain": [
       "<Figure size 640x480 with 3 Axes>"
      ]
     },
     "metadata": {},
     "output_type": "display_data"
    }
   ],
   "source": [
    "plt.figure(figsize=(5,5*3))\n",
    "fig, axs = plt.subplots(3, 1)\n",
    "\n",
    "#plt.subplot(1,1)\n",
    "axs[0].imshow(attn_mat_ED)\n",
    "axs[0].axis(\"off\")\n",
    "axs[0].set_title(\"Euclidean distance\")\n",
    "\n",
    "#plt.subplot(2)\n",
    "axs[1].imshow(attn_mat_ED_softmax)\n",
    "axs[1].axis(\"off\")\n",
    "#axs[1].set_title(\"Softmax\")\n",
    "\n",
    "#plt.subplot(3)\n",
    "axs[2].imshow(attn_mat_ED_argmax)\n",
    "axs[2].axis(\"off\")\n",
    "#axs[2].set_title(\"Argmax\")\n",
    "\n",
    "plt.tight_layout()\n",
    "plt.show()"
   ]
  },
  {
   "cell_type": "code",
   "execution_count": 236,
   "id": "df112daa",
   "metadata": {},
   "outputs": [
    {
     "data": {
      "image/png": "[encoded data removed]",
      "text/plain": [
       "<Figure size 1500x500 with 3 Axes>"
      ]
     },
     "metadata": {},
     "output_type": "display_data"
    }
   ],
   "source": [
    "plt.figure(figsize=(5*3,5))\n",
    "\n",
    "plt.subplot(1,N,1)\n",
    "plt.imshow(attn_mat_MD)\n",
    "plt.axis(\"off\")\n",
    "plt.title(\"Scores (Manhattan distance)\")\n",
    "\n",
    "plt.subplot(1,N,2)\n",
    "plt.imshow(attn_mat_MD_softmax)\n",
    "plt.axis(\"off\")\n",
    "plt.title(\"Softmax\")\n",
    "\n",
    "plt.subplot(1,N,3)\n",
    "plt.imshow(attn_mat_MD_argmax)\n",
    "plt.axis(\"off\")\n",
    "plt.title(\"Argmax\")\n",
    "\n",
    "plt.tight_layout()\n",
    "plt.show()"
   ]
  },
  {
   "cell_type": "code",
   "execution_count": 237,
   "id": "a4ec8883",
   "metadata": {},
   "outputs": [
    {
     "data": {
      "image/png": "[encoded data removed]",
      "text/plain": [
       "<Figure size 1500x500 with 3 Axes>"
      ]
     },
     "metadata": {},
     "output_type": "display_data"
    }
   ],
   "source": [
    "plt.figure(figsize=(5*3,5))\n",
    "\n",
    "plt.subplot(1,N,1)\n",
    "plt.imshow(attn_mat_corr)\n",
    "plt.axis(\"off\")\n",
    "plt.title(\"Scores (Pearson's correlation)\")\n",
    "\n",
    "plt.subplot(1,N,2)\n",
    "plt.imshow(attn_mat_corr_softmax)\n",
    "plt.axis(\"off\")\n",
    "plt.title(\"Softmax\")\n",
    "\n",
    "plt.subplot(1,N,3)\n",
    "plt.imshow(attn_mat_corr_argmax)\n",
    "plt.axis(\"off\")\n",
    "plt.title(\"Argmax\")\n",
    "\n",
    "plt.tight_layout()\n",
    "plt.show()"
   ]
  }
 ],
 "metadata": {
  "kernelspec": {
   "display_name": "Python 3 (ipykernel)",
   "language": "python",
   "name": "python3"
  },
  "language_info": {
   "codemirror_mode": {
    "name": "ipython",
    "version": 3
   },
   "file_extension": ".py",
   "mimetype": "text/x-python",
   "name": "python",
   "nbconvert_exporter": "python",
   "pygments_lexer": "ipython3",
   "version": "3.11.4"
  }
 },
 "nbformat": 4,
 "nbformat_minor": 5
}
